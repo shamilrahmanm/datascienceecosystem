{
  "metadata": {
    "language_info": {
      "codemirror_mode": {
        "name": "python",
        "version": 3
      },
      "file_extension": ".py",
      "mimetype": "text/x-python",
      "name": "python",
      "nbconvert_exporter": "python",
      "pygments_lexer": "ipython3",
      "version": "3.8"
    },
    "kernelspec": {
      "name": "python",
      "display_name": "Pyolite",
      "language": "python"
    }
  },
  "nbformat_minor": 4,
  "nbformat": 4,
  "cells": [
    {
      "cell_type": "markdown",
      "source": "<h1>Data Science Tool and Ecosysyem",
      "metadata": {}
    },
    {
      "cell_type": "markdown",
      "source": "In this notebook, Data Science Tools and Ecosystem are summarized.",
      "metadata": {}
    },
    {
      "cell_type": "markdown",
      "source": "Some of the popular languages that Data Scientists use are:\n\n1. Python \n2. Java \n3. SQL \n4. SAS\n5. Scala ",
      "metadata": {}
    },
    {
      "cell_type": "markdown",
      "source": "<B>Objectives:",
      "metadata": {}
    },
    {
      "cell_type": "markdown",
      "source": "- Python\n- SQL\n- Scala\n- MATLAB",
      "metadata": {}
    },
    {
      "cell_type": "markdown",
      "source": "Some of the commonly used lybraries used by Data Scientists include:\n\n1. Pandas \n2. Tenserflow\n3. SciPy\n4. Keras",
      "metadata": {}
    },
    {
      "cell_type": "markdown",
      "source": "|<h1>Data Science Tools |\n|-------------------|\n| Apache Hadoop     |\n| RStudio           |\n| Tensor Flow       |\n",
      "metadata": {}
    },
    {
      "cell_type": "markdown",
      "source": "<H3>Below are some a few example of evaluating arithmetic expressions in Python",
      "metadata": {}
    },
    {
      "cell_type": "code",
      "source": "print(\"This is a sample arithmetic expression to mutiply then add integers\")",
      "metadata": {
        "trusted": true
      },
      "execution_count": 11,
      "outputs": [
        {
          "name": "stdout",
          "text": "This is a sample arithmetic expression to mutiply then add integers\n",
          "output_type": "stream"
        }
      ]
    },
    {
      "cell_type": "code",
      "source": "(3*4)+5",
      "metadata": {
        "trusted": true
      },
      "execution_count": 10,
      "outputs": [
        {
          "execution_count": 10,
          "output_type": "execute_result",
          "data": {
            "text/plain": "17"
          },
          "metadata": {}
        }
      ]
    },
    {
      "cell_type": "code",
      "source": "print(\"This will covert 200 minutes to hours by dividing 60\")",
      "metadata": {
        "trusted": true
      },
      "execution_count": 14,
      "outputs": [
        {
          "name": "stdout",
          "text": "This will covert 200 minutes to hours by dividing 60\n",
          "output_type": "stream"
        }
      ]
    },
    {
      "cell_type": "code",
      "source": "(200*1)/60",
      "metadata": {
        "trusted": true
      },
      "execution_count": 41,
      "outputs": [
        {
          "execution_count": 41,
          "output_type": "execute_result",
          "data": {
            "text/plain": "3.3333333333333335"
          },
          "metadata": {}
        }
      ]
    },
    {
      "cell_type": "markdown",
      "source": "<H2>Author",
      "metadata": {}
    },
    {
      "cell_type": "markdown",
      "source": "Shamil Rahman M",
      "metadata": {}
    },
    {
      "cell_type": "code",
      "source": "",
      "metadata": {},
      "execution_count": null,
      "outputs": []
    }
  ]
}