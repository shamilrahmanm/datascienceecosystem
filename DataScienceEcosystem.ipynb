Data Science Tools and Ecosystem
Popular languages used by Data Scientist 
